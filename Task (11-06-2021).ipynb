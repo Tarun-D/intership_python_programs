{
 "cells": [
  {
   "cell_type": "markdown",
   "id": "484581b7",
   "metadata": {},
   "source": [
    "##### write a program that takes a two lists and "
   ]
  },
  {
   "cell_type": "code",
   "execution_count": 26,
   "id": "4a008cfb",
   "metadata": {},
   "outputs": [
    {
     "name": "stdout",
     "output_type": "stream",
     "text": [
      "enter your first list: tarun123\n",
      "enter your second list: varun345\n",
      "are they have any comman: True\n",
      "there are  5  number of elements/characters are comman\n",
      "the comman elements/characters are:  ['a', 'r', 'u', 'n', '3']\n"
     ]
    }
   ],
   "source": [
    "li1 = list(input('enter your first list: '))\n",
    "li2 = list(input('enter your second list: ')) \n",
    "final = []\n",
    "for i in li1:\n",
    "\tif i in li2:\n",
    "\t\tfinal.append(i)\n",
    "\n",
    "if len(final):\n",
    "\tprint('are they have any comman: True')\n",
    "\tprint('there are ',len(final),' number of elements/characters are comman')\n",
    "\tprint('the comman elements/characters are: ',final)\n",
    "else:\n",
    "\tprint('there are no one in comman')\n"
   ]
  },
  {
   "cell_type": "code",
   "execution_count": 28,
   "id": "2f1aa336",
   "metadata": {},
   "outputs": [
    {
     "name": "stdout",
     "output_type": "stream",
     "text": [
      "enter your first list: tarun123\n",
      "enter your second list: divyesh456\n",
      "there are no one in comman\n"
     ]
    }
   ],
   "source": [
    "li1 = list(input('enter your first list: '))\n",
    "li2 = list(input('enter your second list: ')) \n",
    "final = []\n",
    "for i in li1:\n",
    "\tif i in li2:\n",
    "\t\tfinal.append(i)\n",
    "\n",
    "if len(final):\n",
    "\tprint('are they have any comman: True')\n",
    "\tprint('there are ',len(final),' number of elements/characters are comman')\n",
    "\tprint('the comman elements/characters are: ',final)\n",
    "else:\n",
    "\tprint('there are no one in comman')"
   ]
  },
  {
   "cell_type": "code",
   "execution_count": null,
   "id": "0f055875",
   "metadata": {},
   "outputs": [],
   "source": []
  }
 ],
 "metadata": {
  "kernelspec": {
   "display_name": "Python 3",
   "language": "python",
   "name": "python3"
  },
  "language_info": {
   "codemirror_mode": {
    "name": "ipython",
    "version": 3
   },
   "file_extension": ".py",
   "mimetype": "text/x-python",
   "name": "python",
   "nbconvert_exporter": "python",
   "pygments_lexer": "ipython3",
   "version": "3.8.8"
  }
 },
 "nbformat": 4,
 "nbformat_minor": 5
}
