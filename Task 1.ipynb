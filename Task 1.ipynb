{
 "cells": [
  {
   "cell_type": "markdown",
   "id": "c581108b",
   "metadata": {},
   "source": [
    "##### 1) write a program to check wheather the user eligible for vote or not"
   ]
  },
  {
   "cell_type": "code",
   "execution_count": 1,
   "id": "0e741557",
   "metadata": {},
   "outputs": [
    {
     "name": "stdout",
     "output_type": "stream",
     "text": [
      "name: Tarun\n",
      "age: 19\n",
      "Tarun is eligible for vote\n"
     ]
    }
   ],
   "source": [
    "name = str(input('name: '))\n",
    "person_age = int(input('age: '))\n",
    "if person_age >= 18:\n",
    "\tprint(f'{name} is eligible for vote')\n",
    "else:\n",
    "\tprint(f'{name} is not eligible for vote')"
   ]
  },
  {
   "cell_type": "code",
   "execution_count": 2,
   "id": "98d4847c",
   "metadata": {},
   "outputs": [
    {
     "name": "stdout",
     "output_type": "stream",
     "text": [
      "name: manish\n",
      "age: 17\n",
      "manish is not eligible for vote\n"
     ]
    }
   ],
   "source": [
    "name = str(input('name: '))\n",
    "person_age = int(input('age: '))\n",
    "if person_age >= 18:\n",
    "\tprint(f'{name} is eligible for vote')\n",
    "else:\n",
    "\tprint(f'{name} is not eligible for vote')"
   ]
  },
  {
   "cell_type": "markdown",
   "id": "641499eb",
   "metadata": {},
   "source": [
    "##### 2) check the given number is positive or not"
   ]
  },
  {
   "cell_type": "code",
   "execution_count": 3,
   "id": "4895951d",
   "metadata": {},
   "outputs": [
    {
     "name": "stdout",
     "output_type": "stream",
     "text": [
      "enter any number: 3\n",
      "3 is a positive number\n"
     ]
    }
   ],
   "source": [
    "user_input = int(input('enter any number: '))\n",
    "if user_input>=0:\n",
    "\tprint(f'{user_input} is a positive number')\n",
    "else:\n",
    "\tprint(f'{user_input} is a negitive number')"
   ]
  },
  {
   "cell_type": "code",
   "execution_count": 4,
   "id": "ffcba53d",
   "metadata": {},
   "outputs": [
    {
     "name": "stdout",
     "output_type": "stream",
     "text": [
      "enter any number: -6\n",
      "-6 is a negitive number\n"
     ]
    }
   ],
   "source": [
    "user_input = int(input('enter any number: '))\n",
    "if user_input>=0:\n",
    "\tprint(f'{user_input} is a positive number')\n",
    "else:\n",
    "\tprint(f'{user_input} is a negitive number')"
   ]
  },
  {
   "cell_type": "markdown",
   "id": "a0332bbb",
   "metadata": {},
   "source": [
    "##### 3) check the given number is even or odd. if it's even, then check if it is divisible by 4 or not"
   ]
  },
  {
   "cell_type": "code",
   "execution_count": 5,
   "id": "03b7597b",
   "metadata": {},
   "outputs": [
    {
     "name": "stdout",
     "output_type": "stream",
     "text": [
      "enter any number: 16\n",
      "16 is an even number and also divisible by 4\n"
     ]
    }
   ],
   "source": [
    "user_input = int(input('enter any number: '))\n",
    "if user_input % 2 == 0:\n",
    "\tif user_input % 4 == 0:\n",
    "\t\tprint(f'{user_input} is an even number and also divisible by 4')\n",
    "\telse:\n",
    "\t\tprint(f'{user_input} is an even number but it is not divisible by 4')\n",
    "else:\n",
    "\tprint(f'{user_input} is not an even number')"
   ]
  },
  {
   "cell_type": "code",
   "execution_count": 6,
   "id": "3d2016b5",
   "metadata": {},
   "outputs": [
    {
     "name": "stdout",
     "output_type": "stream",
     "text": [
      "enter any number: 22\n",
      "22 is an even number but it is not divisible by 4\n"
     ]
    }
   ],
   "source": [
    "user_input = int(input('enter any number: '))\n",
    "if user_input % 2 == 0:\n",
    "\tif user_input % 4 == 0:\n",
    "\t\tprint(f'{user_input} is an even number and also divisible by 4')\n",
    "\telse:\n",
    "\t\tprint(f'{user_input} is an even number but it is not divisible by 4')\n",
    "else:\n",
    "\tprint(f'{user_input} is not an even number')"
   ]
  },
  {
   "cell_type": "markdown",
   "id": "4a02a40e",
   "metadata": {},
   "source": [
    "##### 4) write a program to print student grade based on percentage like distinction, pass or fail"
   ]
  },
  {
   "cell_type": "code",
   "execution_count": 2,
   "id": "e7fad90f",
   "metadata": {},
   "outputs": [
    {
     "name": "stdout",
     "output_type": "stream",
     "text": [
      "enter your percentage: 84\n",
      "Pass\n"
     ]
    }
   ],
   "source": [
    "percentage = float(input(\"enter your percentage: \"))\n",
    "\n",
    "if percentage >= 85:\n",
    "\tprint('Distinction')\n",
    "\n",
    "elif percentage >= 50:\n",
    "\tprint('Pass')\n",
    "\n",
    "elif percentage < 50 :\n",
    "\tprint('Fail')\n"
   ]
  },
  {
   "cell_type": "code",
   "execution_count": 3,
   "id": "4ce67e5d",
   "metadata": {},
   "outputs": [
    {
     "name": "stdout",
     "output_type": "stream",
     "text": [
      "enter your percentage: 48\n",
      "Fail\n"
     ]
    }
   ],
   "source": [
    "percentage = float(input(\"enter your percentage: \"))\n",
    "\n",
    "if percentage >= 85:\n",
    "\tprint('Distinction')\n",
    "\n",
    "elif percentage >= 50:\n",
    "\tprint('Pass')\n",
    "\n",
    "elif percentage < 50 :\n",
    "\tprint('Fail')"
   ]
  },
  {
   "cell_type": "markdown",
   "id": "7857b107",
   "metadata": {},
   "source": [
    "##### 5) check the given year is leap year or not"
   ]
  },
  {
   "cell_type": "code",
   "execution_count": 5,
   "id": "0f4a153a",
   "metadata": {},
   "outputs": [
    {
     "name": "stdout",
     "output_type": "stream",
     "text": [
      "enter a year: 2020\n",
      "2020 is a leap year\n"
     ]
    }
   ],
   "source": [
    "year = int(input('enter a year: '))\n",
    "\n",
    "if year % 4 == 0:\n",
    "\tif year % 100 == 0:\n",
    "\t\tif year % 400 == 0:\n",
    "\t\t\tprint(f'{year} is a leap year')\n",
    "\t\telse:\n",
    "\t\t\tprint(f'{year} is not a leap year')\n",
    "\telse:\n",
    "\t\tprint(f'{year} is a leap year')\n",
    "else:\n",
    "\tprint(f'{year} is not a leap year')\n",
    "\n"
   ]
  },
  {
   "cell_type": "code",
   "execution_count": 4,
   "id": "48903e5a",
   "metadata": {},
   "outputs": [
    {
     "name": "stdout",
     "output_type": "stream",
     "text": [
      "enter a year: 1900\n",
      "1900 is not a leap year\n"
     ]
    }
   ],
   "source": [
    "year = int(input('enter a year: '))\n",
    "\n",
    "if year % 4 == 0:\n",
    "\tif year % 100 == 0:\n",
    "\t\tif year % 400 == 0:\n",
    "\t\t\tprint(f'{year} is a leap year')\n",
    "\t\telse:\n",
    "\t\t\tprint(f'{year} is not a leap year')\n",
    "\telse:\n",
    "\t\tprint(f'{year} is a leap year')\n",
    "else:\n",
    "\tprint(f'{year} is not a leap year')"
   ]
  },
  {
   "cell_type": "code",
   "execution_count": null,
   "id": "55c050f1",
   "metadata": {},
   "outputs": [],
   "source": []
  }
 ],
 "metadata": {
  "kernelspec": {
   "display_name": "Python 3",
   "language": "python",
   "name": "python3"
  },
  "language_info": {
   "codemirror_mode": {
    "name": "ipython",
    "version": 3
   },
   "file_extension": ".py",
   "mimetype": "text/x-python",
   "name": "python",
   "nbconvert_exporter": "python",
   "pygments_lexer": "ipython3",
   "version": "3.8.8"
  }
 },
 "nbformat": 4,
 "nbformat_minor": 5
}
