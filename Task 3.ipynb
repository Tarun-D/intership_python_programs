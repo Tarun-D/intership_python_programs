{
 "cells": [
  {
   "cell_type": "markdown",
   "id": "f1ca4db2",
   "metadata": {},
   "source": [
    "##### Task\n",
    "* take input from the user\n",
    "* check whether length of string is even or odd\n",
    "* if string length is odd acess one middle char\n",
    "* if that string is even access 2 elemts"
   ]
  },
  {
   "cell_type": "code",
   "execution_count": 20,
   "id": "800ba98b",
   "metadata": {},
   "outputs": [
    {
     "name": "stdout",
     "output_type": "stream",
     "text": [
      "Enter the string: tarunvenkatsai\n",
      "Lenth of string  14\n",
      "The string is even length\n",
      "The two middle vales are  \" en \"\n"
     ]
    }
   ],
   "source": [
    "string = input(\"Enter the string: \")\n",
    "print(\"Lenth of string \",len(string))\n",
    "if len(string)%2==0:\n",
    "    print(\"The string is even length\")\n",
    "    print(\"The two middle vales are \", '\\\"',string[(len(string)-1)//2 : (len(string)+2)//2],'\\\"')\n",
    "else:\n",
    "    print(\"The string is odd length\")\n",
    "    print(\"The middle vale is \",'\\\"',string[len(string)//2],'\\\"')"
   ]
  },
  {
   "cell_type": "code",
   "execution_count": 21,
   "id": "474f5d69",
   "metadata": {},
   "outputs": [
    {
     "name": "stdout",
     "output_type": "stream",
     "text": [
      "Enter the string: tarun\n",
      "Lenth of string  5\n",
      "The string is odd length\n",
      "The middle vale is  \" r \"\n"
     ]
    }
   ],
   "source": [
    "string = input(\"Enter the string: \")\n",
    "print(\"Lenth of string \",len(string))\n",
    "if len(string)%2==0:\n",
    "    print(\"The string is even length\")\n",
    "    print(\"The two middle vales are \", '\\\"',string[(len(string)-1)//2 : (len(string)+2)//2],'\\\"')\n",
    "else:\n",
    "    print(\"The string is odd length\")\n",
    "    print(\"The middle vale is \",'\\\"',string[len(string)//2],'\\\"')"
   ]
  },
  {
   "cell_type": "code",
   "execution_count": null,
   "id": "1026a416",
   "metadata": {},
   "outputs": [],
   "source": []
  }
 ],
 "metadata": {
  "kernelspec": {
   "display_name": "Python 3",
   "language": "python",
   "name": "python3"
  },
  "language_info": {
   "codemirror_mode": {
    "name": "ipython",
    "version": 3
   },
   "file_extension": ".py",
   "mimetype": "text/x-python",
   "name": "python",
   "nbconvert_exporter": "python",
   "pygments_lexer": "ipython3",
   "version": "3.8.8"
  }
 },
 "nbformat": 4,
 "nbformat_minor": 5
}
