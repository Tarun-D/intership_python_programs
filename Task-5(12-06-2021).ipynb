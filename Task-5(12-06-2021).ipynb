{
 "cells": [
  {
   "cell_type": "markdown",
   "id": "405e03ea",
   "metadata": {},
   "source": [
    "#### write a python script to print a dictionary where the keys are numbers between 1 and 15 and the values are squares of keys"
   ]
  },
  {
   "cell_type": "code",
   "execution_count": 7,
   "id": "f5847dc3",
   "metadata": {},
   "outputs": [
    {
     "name": "stdout",
     "output_type": "stream",
     "text": [
      "{1: 1, 2: 4, 3: 9, 4: 16, 5: 25, 6: 36, 7: 49, 8: 64, 9: 81, 10: 100, 11: 121, 12: 144, 13: 169, 14: 196, 15: 225}\n"
     ]
    }
   ],
   "source": [
    "x = 1\n",
    "y = 16\n",
    "dictionary = {}\n",
    "for i in range(x, y):\n",
    "    dictionary[i]=i**2\n",
    "print(dictionary)"
   ]
  },
  {
   "cell_type": "markdown",
   "id": "dd7de3b2",
   "metadata": {},
   "source": [
    "### write a python program to sort a list alphabetically in a dictionary\n",
    "* input:{'n1':[2,3,1],'n2':[5,1,2],'n3':[3,2,4]} \n",
    "* output:{'n1': [1, 2, 3], 'n2': [1, 2, 5], 'n3': [2, 3, 4]}"
   ]
  },
  {
   "cell_type": "code",
   "execution_count": 34,
   "id": "4f382a84",
   "metadata": {},
   "outputs": [
    {
     "name": "stdout",
     "output_type": "stream",
     "text": [
      "{'n1': [1, 2, 3], 'n2': [1, 2, 5], 'n3': [2, 3, 4]}\n"
     ]
    }
   ],
   "source": [
    "a = {'n1':[2,3,1],'n2':[5,1,2],'n3':[3,2,4]}\n",
    "new_sorted_dict = {}\n",
    "for i,j in a.items():\n",
    "    sorted_dict = {i:j}\n",
    "    x = sorted_dict\n",
    "    for p,q in x.items():\n",
    "        new_sorted_dict[p]=sorted(j)\n",
    "print(new_sorted_dict)"
   ]
  },
  {
   "cell_type": "markdown",
   "id": "8d1928b9",
   "metadata": {},
   "source": [
    "###### write a python program to map two lists into a dictionary"
   ]
  },
  {
   "cell_type": "code",
   "execution_count": 3,
   "id": "f080fde7",
   "metadata": {},
   "outputs": [
    {
     "name": "stdout",
     "output_type": "stream",
     "text": [
      "enter number of elements: 3\n",
      "enter your 1 key: name\n",
      "enter your 2 key: age\n",
      "enter your 3 key: place\n",
      "enter your 1 value: tarun\n",
      "enter your 2 value: 19\n",
      "enter your 3 value: vijayawada\n",
      "{'name': 'tarun', 'age': '19', 'place': 'vijayawada'}\n"
     ]
    }
   ],
   "source": [
    "list1 = []\n",
    "list2 = []\n",
    "n = int(input('enter number of elements: '))\n",
    "for i in range(0,n):\n",
    "\tkey = input(f'enter your {i+1} key: ')\n",
    "\tlist1.append(key)\n",
    "for j in range(0,n):\n",
    "\tvalue = input(f'enter your {j+1} value: ')\n",
    "\tlist2.append(value)\n",
    "dictionary = dict(zip(list1, list2))\n",
    "print(dictionary)"
   ]
  }
 ],
 "metadata": {
  "kernelspec": {
   "display_name": "Python 3",
   "language": "python",
   "name": "python3"
  },
  "language_info": {
   "codemirror_mode": {
    "name": "ipython",
    "version": 3
   },
   "file_extension": ".py",
   "mimetype": "text/x-python",
   "name": "python",
   "nbconvert_exporter": "python",
   "pygments_lexer": "ipython3",
   "version": "3.8.8"
  }
 },
 "nbformat": 4,
 "nbformat_minor": 5
}
